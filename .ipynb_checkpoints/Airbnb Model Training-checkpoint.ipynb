{
 "cells": [
  {
   "cell_type": "markdown",
   "metadata": {},
   "source": [
    "### Import libraries"
   ]
  },
  {
   "cell_type": "code",
   "execution_count": 1,
   "metadata": {},
   "outputs": [],
   "source": [
    "import pandas as pd\n",
    "import numpy as np\n",
    "import matplotlib.pyplot as plt\n",
    "import seaborn as sns\n",
    "\n",
    "import re\n",
    "import geopy"
   ]
  },
  {
   "cell_type": "markdown",
   "metadata": {},
   "source": [
    "### Imports Dataset"
   ]
  },
  {
   "cell_type": "code",
   "execution_count": 2,
   "metadata": {},
   "outputs": [
    {
     "name": "stderr",
     "output_type": "stream",
     "text": [
      "C:\\ProgramData\\Anaconda3\\lib\\site-packages\\IPython\\core\\interactiveshell.py:3071: DtypeWarning: Columns (25) have mixed types.Specify dtype option on import or set low_memory=False.\n",
      "  has_raised = await self.run_ast_nodes(code_ast.body, cell_name,\n"
     ]
    }
   ],
   "source": [
    "airbnbData = pd.read_csv('./Data/Airbnb_Open_Data.csv')"
   ]
  },
  {
   "cell_type": "markdown",
   "metadata": {},
   "source": [
    "# Analyzing Data"
   ]
  },
  {
   "cell_type": "markdown",
   "metadata": {},
   "source": [
    "### Checking dataset essentials"
   ]
  },
  {
   "cell_type": "code",
   "execution_count": 3,
   "metadata": {},
   "outputs": [
    {
     "name": "stdout",
     "output_type": "stream",
     "text": [
      "Shape:  (102599, 26) \n",
      "\n",
      "Columns:  Index(['id', 'NAME', 'host id', 'host_identity_verified', 'host name',\n",
      "       'neighbourhood group', 'neighbourhood', 'lat', 'long', 'country',\n",
      "       'country code', 'instant_bookable', 'cancellation_policy', 'room type',\n",
      "       'Construction year', 'price', 'service fee', 'minimum nights',\n",
      "       'number of reviews', 'last review', 'reviews per month',\n",
      "       'review rate number', 'calculated host listings count',\n",
      "       'availability 365', 'house_rules', 'license'],\n",
      "      dtype='object') \n",
      "\n",
      "\n",
      "Null count before dropping:\n",
      "  host_identity_verified      289\n",
      "neighbourhood group          29\n",
      "neighbourhood                16\n",
      "lat                           8\n",
      "long                          8\n",
      "instant_bookable            105\n",
      "cancellation_policy          76\n",
      "room type                     0\n",
      "Construction year           214\n",
      "price                       247\n",
      "service fee                 273\n",
      "minimum nights              409\n",
      "number of reviews           183\n",
      "reviews per month         15879\n",
      "review rate number          326\n",
      "dtype: int64 \n",
      "\n",
      "\n",
      "Shape after dropping:\n",
      "  (85132, 15)\n",
      "Null count after droping:\n",
      "  host_identity_verified    0\n",
      "neighbourhood group       0\n",
      "neighbourhood             0\n",
      "lat                       0\n",
      "long                      0\n",
      "instant_bookable          0\n",
      "cancellation_policy       0\n",
      "room type                 0\n",
      "Construction year         0\n",
      "price                     0\n",
      "service fee               0\n",
      "minimum nights            0\n",
      "number of reviews         0\n",
      "reviews per month         0\n",
      "review rate number        0\n",
      "dtype: int64\n"
     ]
    },
    {
     "data": {
      "text/html": [
       "<div>\n",
       "<style scoped>\n",
       "    .dataframe tbody tr th:only-of-type {\n",
       "        vertical-align: middle;\n",
       "    }\n",
       "\n",
       "    .dataframe tbody tr th {\n",
       "        vertical-align: top;\n",
       "    }\n",
       "\n",
       "    .dataframe thead th {\n",
       "        text-align: right;\n",
       "    }\n",
       "</style>\n",
       "<table border=\"1\" class=\"dataframe\">\n",
       "  <thead>\n",
       "    <tr style=\"text-align: right;\">\n",
       "      <th></th>\n",
       "      <th>host_identity_verified</th>\n",
       "      <th>neighbourhood group</th>\n",
       "      <th>neighbourhood</th>\n",
       "      <th>lat</th>\n",
       "      <th>long</th>\n",
       "      <th>instant_bookable</th>\n",
       "      <th>cancellation_policy</th>\n",
       "      <th>room type</th>\n",
       "      <th>Construction year</th>\n",
       "      <th>price</th>\n",
       "      <th>service fee</th>\n",
       "      <th>minimum nights</th>\n",
       "      <th>number of reviews</th>\n",
       "      <th>reviews per month</th>\n",
       "      <th>review rate number</th>\n",
       "    </tr>\n",
       "  </thead>\n",
       "  <tbody>\n",
       "    <tr>\n",
       "      <th>0</th>\n",
       "      <td>unconfirmed</td>\n",
       "      <td>Brooklyn</td>\n",
       "      <td>Kensington</td>\n",
       "      <td>40.64749</td>\n",
       "      <td>-73.97237</td>\n",
       "      <td>False</td>\n",
       "      <td>strict</td>\n",
       "      <td>Private room</td>\n",
       "      <td>2020.0</td>\n",
       "      <td>$966</td>\n",
       "      <td>$193</td>\n",
       "      <td>10.0</td>\n",
       "      <td>9.0</td>\n",
       "      <td>0.21</td>\n",
       "      <td>4.0</td>\n",
       "    </tr>\n",
       "    <tr>\n",
       "      <th>1</th>\n",
       "      <td>verified</td>\n",
       "      <td>Manhattan</td>\n",
       "      <td>Midtown</td>\n",
       "      <td>40.75362</td>\n",
       "      <td>-73.98377</td>\n",
       "      <td>False</td>\n",
       "      <td>moderate</td>\n",
       "      <td>Entire home/apt</td>\n",
       "      <td>2007.0</td>\n",
       "      <td>$142</td>\n",
       "      <td>$28</td>\n",
       "      <td>30.0</td>\n",
       "      <td>45.0</td>\n",
       "      <td>0.38</td>\n",
       "      <td>4.0</td>\n",
       "    </tr>\n",
       "    <tr>\n",
       "      <th>3</th>\n",
       "      <td>unconfirmed</td>\n",
       "      <td>Brooklyn</td>\n",
       "      <td>Clinton Hill</td>\n",
       "      <td>40.68514</td>\n",
       "      <td>-73.95976</td>\n",
       "      <td>True</td>\n",
       "      <td>moderate</td>\n",
       "      <td>Entire home/apt</td>\n",
       "      <td>2005.0</td>\n",
       "      <td>$368</td>\n",
       "      <td>$74</td>\n",
       "      <td>30.0</td>\n",
       "      <td>270.0</td>\n",
       "      <td>4.64</td>\n",
       "      <td>4.0</td>\n",
       "    </tr>\n",
       "    <tr>\n",
       "      <th>4</th>\n",
       "      <td>verified</td>\n",
       "      <td>Manhattan</td>\n",
       "      <td>East Harlem</td>\n",
       "      <td>40.79851</td>\n",
       "      <td>-73.94399</td>\n",
       "      <td>False</td>\n",
       "      <td>moderate</td>\n",
       "      <td>Entire home/apt</td>\n",
       "      <td>2009.0</td>\n",
       "      <td>$204</td>\n",
       "      <td>$41</td>\n",
       "      <td>10.0</td>\n",
       "      <td>9.0</td>\n",
       "      <td>0.10</td>\n",
       "      <td>3.0</td>\n",
       "    </tr>\n",
       "    <tr>\n",
       "      <th>5</th>\n",
       "      <td>verified</td>\n",
       "      <td>Manhattan</td>\n",
       "      <td>Murray Hill</td>\n",
       "      <td>40.74767</td>\n",
       "      <td>-73.97500</td>\n",
       "      <td>True</td>\n",
       "      <td>flexible</td>\n",
       "      <td>Entire home/apt</td>\n",
       "      <td>2013.0</td>\n",
       "      <td>$577</td>\n",
       "      <td>$115</td>\n",
       "      <td>3.0</td>\n",
       "      <td>74.0</td>\n",
       "      <td>0.59</td>\n",
       "      <td>3.0</td>\n",
       "    </tr>\n",
       "    <tr>\n",
       "      <th>...</th>\n",
       "      <td>...</td>\n",
       "      <td>...</td>\n",
       "      <td>...</td>\n",
       "      <td>...</td>\n",
       "      <td>...</td>\n",
       "      <td>...</td>\n",
       "      <td>...</td>\n",
       "      <td>...</td>\n",
       "      <td>...</td>\n",
       "      <td>...</td>\n",
       "      <td>...</td>\n",
       "      <td>...</td>\n",
       "      <td>...</td>\n",
       "      <td>...</td>\n",
       "      <td>...</td>\n",
       "    </tr>\n",
       "    <tr>\n",
       "      <th>102588</th>\n",
       "      <td>unconfirmed</td>\n",
       "      <td>Manhattan</td>\n",
       "      <td>Flatiron District</td>\n",
       "      <td>40.74068</td>\n",
       "      <td>-73.98999</td>\n",
       "      <td>True</td>\n",
       "      <td>flexible</td>\n",
       "      <td>Entire home/apt</td>\n",
       "      <td>2016.0</td>\n",
       "      <td>$618</td>\n",
       "      <td>$124</td>\n",
       "      <td>1.0</td>\n",
       "      <td>177.0</td>\n",
       "      <td>3.78</td>\n",
       "      <td>4.0</td>\n",
       "    </tr>\n",
       "    <tr>\n",
       "      <th>102591</th>\n",
       "      <td>verified</td>\n",
       "      <td>Manhattan</td>\n",
       "      <td>Upper West Side</td>\n",
       "      <td>40.77408</td>\n",
       "      <td>-73.98181</td>\n",
       "      <td>False</td>\n",
       "      <td>strict</td>\n",
       "      <td>Entire home/apt</td>\n",
       "      <td>2005.0</td>\n",
       "      <td>$1,139</td>\n",
       "      <td>$228</td>\n",
       "      <td>5.0</td>\n",
       "      <td>17.0</td>\n",
       "      <td>0.35</td>\n",
       "      <td>5.0</td>\n",
       "    </tr>\n",
       "    <tr>\n",
       "      <th>102593</th>\n",
       "      <td>verified</td>\n",
       "      <td>Manhattan</td>\n",
       "      <td>East Village</td>\n",
       "      <td>40.72826</td>\n",
       "      <td>-73.98422</td>\n",
       "      <td>True</td>\n",
       "      <td>strict</td>\n",
       "      <td>Private room</td>\n",
       "      <td>2017.0</td>\n",
       "      <td>$1,099</td>\n",
       "      <td>$220</td>\n",
       "      <td>1.0</td>\n",
       "      <td>8.0</td>\n",
       "      <td>0.16</td>\n",
       "      <td>4.0</td>\n",
       "    </tr>\n",
       "    <tr>\n",
       "      <th>102595</th>\n",
       "      <td>unconfirmed</td>\n",
       "      <td>Manhattan</td>\n",
       "      <td>Morningside Heights</td>\n",
       "      <td>40.80460</td>\n",
       "      <td>-73.96545</td>\n",
       "      <td>True</td>\n",
       "      <td>moderate</td>\n",
       "      <td>Private room</td>\n",
       "      <td>2016.0</td>\n",
       "      <td>$837</td>\n",
       "      <td>$167</td>\n",
       "      <td>1.0</td>\n",
       "      <td>1.0</td>\n",
       "      <td>0.02</td>\n",
       "      <td>2.0</td>\n",
       "    </tr>\n",
       "    <tr>\n",
       "      <th>102597</th>\n",
       "      <td>unconfirmed</td>\n",
       "      <td>Queens</td>\n",
       "      <td>Long Island City</td>\n",
       "      <td>40.74989</td>\n",
       "      <td>-73.93777</td>\n",
       "      <td>True</td>\n",
       "      <td>strict</td>\n",
       "      <td>Entire home/apt</td>\n",
       "      <td>2015.0</td>\n",
       "      <td>$546</td>\n",
       "      <td>$109</td>\n",
       "      <td>2.0</td>\n",
       "      <td>5.0</td>\n",
       "      <td>0.10</td>\n",
       "      <td>3.0</td>\n",
       "    </tr>\n",
       "  </tbody>\n",
       "</table>\n",
       "<p>85132 rows × 15 columns</p>\n",
       "</div>"
      ],
      "text/plain": [
       "       host_identity_verified neighbourhood group        neighbourhood  \\\n",
       "0                 unconfirmed            Brooklyn           Kensington   \n",
       "1                    verified           Manhattan              Midtown   \n",
       "3                 unconfirmed            Brooklyn         Clinton Hill   \n",
       "4                    verified           Manhattan          East Harlem   \n",
       "5                    verified           Manhattan          Murray Hill   \n",
       "...                       ...                 ...                  ...   \n",
       "102588            unconfirmed           Manhattan    Flatiron District   \n",
       "102591               verified           Manhattan      Upper West Side   \n",
       "102593               verified           Manhattan         East Village   \n",
       "102595            unconfirmed           Manhattan  Morningside Heights   \n",
       "102597            unconfirmed              Queens     Long Island City   \n",
       "\n",
       "             lat      long instant_bookable cancellation_policy  \\\n",
       "0       40.64749 -73.97237            False              strict   \n",
       "1       40.75362 -73.98377            False            moderate   \n",
       "3       40.68514 -73.95976             True            moderate   \n",
       "4       40.79851 -73.94399            False            moderate   \n",
       "5       40.74767 -73.97500             True            flexible   \n",
       "...          ...       ...              ...                 ...   \n",
       "102588  40.74068 -73.98999             True            flexible   \n",
       "102591  40.77408 -73.98181            False              strict   \n",
       "102593  40.72826 -73.98422             True              strict   \n",
       "102595  40.80460 -73.96545             True            moderate   \n",
       "102597  40.74989 -73.93777             True              strict   \n",
       "\n",
       "              room type  Construction year    price service fee  \\\n",
       "0          Private room             2020.0    $966        $193    \n",
       "1       Entire home/apt             2007.0    $142         $28    \n",
       "3       Entire home/apt             2005.0    $368         $74    \n",
       "4       Entire home/apt             2009.0    $204         $41    \n",
       "5       Entire home/apt             2013.0    $577        $115    \n",
       "...                 ...                ...      ...         ...   \n",
       "102588  Entire home/apt             2016.0    $618        $124    \n",
       "102591  Entire home/apt             2005.0  $1,139        $228    \n",
       "102593     Private room             2017.0  $1,099        $220    \n",
       "102595     Private room             2016.0    $837        $167    \n",
       "102597  Entire home/apt             2015.0    $546        $109    \n",
       "\n",
       "        minimum nights  number of reviews  reviews per month  \\\n",
       "0                 10.0                9.0               0.21   \n",
       "1                 30.0               45.0               0.38   \n",
       "3                 30.0              270.0               4.64   \n",
       "4                 10.0                9.0               0.10   \n",
       "5                  3.0               74.0               0.59   \n",
       "...                ...                ...                ...   \n",
       "102588             1.0              177.0               3.78   \n",
       "102591             5.0               17.0               0.35   \n",
       "102593             1.0                8.0               0.16   \n",
       "102595             1.0                1.0               0.02   \n",
       "102597             2.0                5.0               0.10   \n",
       "\n",
       "        review rate number  \n",
       "0                      4.0  \n",
       "1                      4.0  \n",
       "3                      4.0  \n",
       "4                      3.0  \n",
       "5                      3.0  \n",
       "...                    ...  \n",
       "102588                 4.0  \n",
       "102591                 5.0  \n",
       "102593                 4.0  \n",
       "102595                 2.0  \n",
       "102597                 3.0  \n",
       "\n",
       "[85132 rows x 15 columns]"
      ]
     },
     "execution_count": 3,
     "metadata": {},
     "output_type": "execute_result"
    }
   ],
   "source": [
    "print(\"Shape: \", airbnbData.shape, \"\\n\")\n",
    "\n",
    "print(\"Columns: \", airbnbData.columns, \"\\n\\n\")\n",
    "\n",
    "# Dropping columns that won't be usuful to model or has data leakage\n",
    "droppingColumns = [\n",
    "    'id', 'NAME', 'host id', 'host name', 'last review',\n",
    "    'calculated host listings count', 'house_rules', 'license', 'availability 365',\n",
    "    'country', 'country code']\n",
    "\n",
    "airbnbData.drop(droppingColumns, axis =1 , inplace=True)\n",
    "\n",
    "print(\"Null count before dropping:\\n \",airbnbData.isnull().sum(), \"\\n\\n\")\n",
    "\n",
    "# Drops all rows with a null value since the dataset is large\n",
    "airbnbData = airbnbData.loc[airbnbData.isnull().sum(axis=1) == 0,:]\n",
    "print(\"Shape after dropping:\\n \", airbnbData.shape)\n",
    "print(\"Null count after droping:\\n \", airbnbData.isnull().sum())\n",
    "\n",
    "airbnbData"
   ]
  },
  {
   "cell_type": "markdown",
   "metadata": {},
   "source": [
    "### Removing all none well rated posts"
   ]
  },
  {
   "cell_type": "code",
   "execution_count": 4,
   "metadata": {},
   "outputs": [
    {
     "name": "stdout",
     "output_type": "stream",
     "text": [
      "Reviews per month mean:  1.3747339425832923\n",
      "Number of reviews mean:  32.26613964196777\n",
      "Reviews rate mean:  3.2802236526805433\n",
      "\n",
      "Original Shape:  (85132, 15)\n",
      "After a low score remvoving:  (38827, 15)\n",
      "After removing number of reviews:  (20481, 15)\n",
      "After removing low monthly review rate dropping:  (17700, 15)\n"
     ]
    }
   ],
   "source": [
    "# Must have more than 4 star rating\n",
    "# Must have more than 1 review per month\n",
    "# Must have more than 20 reviews\n",
    "\n",
    "print(\"Reviews per month mean: \" ,airbnbData['reviews per month'].mean())\n",
    "print(\"Number of reviews mean: \" ,airbnbData['number of reviews'].mean())\n",
    "print(\"Reviews rate mean: \" , airbnbData['review rate number'].mean())\n",
    "\n",
    "print(\"\\nOriginal Shape: \" ,airbnbData.shape)\n",
    "\n",
    "airbnbData = airbnbData.loc[airbnbData['review rate number'] >= 4,:]\n",
    "\n",
    "print(\"After a low score remvoving: \" ,airbnbData.shape)\n",
    "\n",
    "airbnbData = airbnbData.loc[airbnbData['number of reviews'] >= 10,:]\n",
    "\n",
    "print(\"After removing number of reviews: \" , airbnbData.shape)\n",
    "\n",
    "airbnbData = airbnbData.loc[airbnbData['reviews per month'] >= 0.5,:]\n",
    "\n",
    "print(\"After removing low monthly review rate dropping: \" , airbnbData.shape)\n",
    "\n",
    "\n",
    "#Reset the index\n",
    "\n",
    "airbnbData.reset_index(inplace=True, drop=True)\n",
    "\n"
   ]
  },
  {
   "cell_type": "markdown",
   "metadata": {},
   "source": [
    "### Converts string dollars to floats"
   ]
  },
  {
   "cell_type": "code",
   "execution_count": 5,
   "metadata": {},
   "outputs": [
    {
     "data": {
      "text/html": [
       "<div>\n",
       "<style scoped>\n",
       "    .dataframe tbody tr th:only-of-type {\n",
       "        vertical-align: middle;\n",
       "    }\n",
       "\n",
       "    .dataframe tbody tr th {\n",
       "        vertical-align: top;\n",
       "    }\n",
       "\n",
       "    .dataframe thead th {\n",
       "        text-align: right;\n",
       "    }\n",
       "</style>\n",
       "<table border=\"1\" class=\"dataframe\">\n",
       "  <thead>\n",
       "    <tr style=\"text-align: right;\">\n",
       "      <th></th>\n",
       "      <th>price</th>\n",
       "      <th>service fee</th>\n",
       "    </tr>\n",
       "  </thead>\n",
       "  <tbody>\n",
       "    <tr>\n",
       "      <th>0</th>\n",
       "      <td>368</td>\n",
       "      <td>74</td>\n",
       "    </tr>\n",
       "    <tr>\n",
       "      <th>1</th>\n",
       "      <td>291</td>\n",
       "      <td>58</td>\n",
       "    </tr>\n",
       "    <tr>\n",
       "      <th>2</th>\n",
       "      <td>714</td>\n",
       "      <td>143</td>\n",
       "    </tr>\n",
       "    <tr>\n",
       "      <th>3</th>\n",
       "      <td>580</td>\n",
       "      <td>116</td>\n",
       "    </tr>\n",
       "    <tr>\n",
       "      <th>4</th>\n",
       "      <td>439</td>\n",
       "      <td>88</td>\n",
       "    </tr>\n",
       "    <tr>\n",
       "      <th>...</th>\n",
       "      <td>...</td>\n",
       "      <td>...</td>\n",
       "    </tr>\n",
       "    <tr>\n",
       "      <th>17695</th>\n",
       "      <td>605</td>\n",
       "      <td>121</td>\n",
       "    </tr>\n",
       "    <tr>\n",
       "      <th>17696</th>\n",
       "      <td>985</td>\n",
       "      <td>197</td>\n",
       "    </tr>\n",
       "    <tr>\n",
       "      <th>17697</th>\n",
       "      <td>294</td>\n",
       "      <td>59</td>\n",
       "    </tr>\n",
       "    <tr>\n",
       "      <th>17698</th>\n",
       "      <td>77</td>\n",
       "      <td>15</td>\n",
       "    </tr>\n",
       "    <tr>\n",
       "      <th>17699</th>\n",
       "      <td>618</td>\n",
       "      <td>124</td>\n",
       "    </tr>\n",
       "  </tbody>\n",
       "</table>\n",
       "<p>17700 rows × 2 columns</p>\n",
       "</div>"
      ],
      "text/plain": [
       "       price  service fee\n",
       "0        368           74\n",
       "1        291           58\n",
       "2        714          143\n",
       "3        580          116\n",
       "4        439           88\n",
       "...      ...          ...\n",
       "17695    605          121\n",
       "17696    985          197\n",
       "17697    294           59\n",
       "17698     77           15\n",
       "17699    618          124\n",
       "\n",
       "[17700 rows x 2 columns]"
      ]
     },
     "execution_count": 5,
     "metadata": {},
     "output_type": "execute_result"
    }
   ],
   "source": [
    "dollarsColumns = ['price', 'service fee']\n",
    "\n",
    "# Uses Regex to remove all none numeric characters\n",
    "# Then converts the column to numeric values\n",
    "for dolCol in dollarsColumns:  \n",
    "    airbnbData[dolCol] = airbnbData[dolCol].apply(lambda x: re.sub(r'\\D', '',x))\n",
    "    airbnbData[dolCol] = pd.to_numeric(airbnbData[dolCol])\n",
    "\n",
    "airbnbData[dollarsColumns]"
   ]
  },
  {
   "cell_type": "markdown",
   "metadata": {},
   "source": [
    "## Visualizing Data"
   ]
  },
  {
   "cell_type": "code",
   "execution_count": 6,
   "metadata": {},
   "outputs": [],
   "source": [
    "sns.set(rc={'axes.facecolor':'white', 'figure.facecolor':'gray'})"
   ]
  },
  {
   "cell_type": "markdown",
   "metadata": {},
   "source": [
    "### Visualizing Price"
   ]
  },
  {
   "cell_type": "code",
   "execution_count": 7,
   "metadata": {},
   "outputs": [
    {
     "data": {
      "image/png": "[encoded data removed]",
      "text/plain": [
       "<Figure size 432x288 with 1 Axes>"
      ]
     },
     "metadata": {},
     "output_type": "display_data"
    }
   ],
   "source": [
    "sns.histplot(data = airbnbData, x='price')\n",
    "\n",
    "plt.show()"
   ]
  },
  {
   "cell_type": "markdown",
   "metadata": {},
   "source": [
    "### Visualizing Room Type"
   ]
  },
  {
   "cell_type": "code",
   "execution_count": 8,
   "metadata": {},
   "outputs": [
    {
     "data": {
      "image/png": "[encoded data removed]",
      "text/plain": [
       "<Figure size 432x288 with 1 Axes>"
      ]
     },
     "metadata": {},
     "output_type": "display_data"
    }
   ],
   "source": [
    "sns.countplot(data = airbnbData, x='room type')\n",
    "\n",
    "plt.show()"
   ]
  },
  {
   "cell_type": "markdown",
   "metadata": {},
   "source": [
    "### Visualizing Instant Bookable"
   ]
  },
  {
   "cell_type": "code",
   "execution_count": 9,
   "metadata": {},
   "outputs": [
    {
     "data": {
      "image/png": "[encoded data removed]",
      "text/plain": [
       "<Figure size 432x288 with 1 Axes>"
      ]
     },
     "metadata": {},
     "output_type": "display_data"
    }
   ],
   "source": [
    "sns.countplot(data = airbnbData, x='instant_bookable')\n",
    "\n",
    "plt.show()"
   ]
  },
  {
   "cell_type": "markdown",
   "metadata": {},
   "source": [
    "### Visualizing Cancelation Policy"
   ]
  },
  {
   "cell_type": "code",
   "execution_count": 10,
   "metadata": {},
   "outputs": [
    {
     "data": {
      "image/png": "[encoded data removed]",
      "text/plain": [
       "<Figure size 432x288 with 1 Axes>"
      ]
     },
     "metadata": {},
     "output_type": "display_data"
    }
   ],
   "source": [
    "sns.countplot(data = airbnbData, x='cancellation_policy')\n",
    "\n",
    "plt.show()"
   ]
  },
  {
   "cell_type": "markdown",
   "metadata": {},
   "source": [
    "## Getting the zipcode of locations"
   ]
  },
  {
   "cell_type": "code",
   "execution_count": null,
   "metadata": {},
   "outputs": [
    {
     "name": "stdout",
     "output_type": "stream",
     "text": [
      "6001 / 17700 :  ['10458', 'United States']\n",
      "6002 / 17700 :  ['10009', 'United States']\n",
      "6003 / 17700 :  ['11211', 'United States']\n",
      "6004 / 17700 :  ['11215', 'United States']\n",
      "6005 / 17700 :  ['11217', 'United States']\n",
      "6006 / 17700 :  ['11223', 'United States']\n",
      "6007 / 17700 :  ['11206', 'United States']\n",
      "6008 / 17700 :  ['11237', 'United States']\n",
      "6009 / 17700 :  ['10019', 'United States']\n",
      "6010 / 17700 :  ['11235', 'United States']\n",
      "6011 / 17700 :  ['10024', 'United States']\n",
      "6012 / 17700 :  ['10454', 'United States']\n",
      "6013 / 17700 :  ['10028', 'United States']\n",
      "6014 / 17700 :  ['10019', 'United States']\n",
      "6015 / 17700 :  ['10023', 'United States']\n",
      "6016 / 17700 :  ['10040', 'United States']\n",
      "6017 / 17700 :  ['11237', 'United States']\n",
      "6018 / 17700 :  ['11236', 'United States']\n",
      "6019 / 17700 :  ['11213', 'United States']\n",
      "6020 / 17700 :  ['11211', 'United States']\n",
      "6021 / 17700 :  ['11211', 'United States']\n",
      "6022 / 17700 :  ['11231', 'United States']\n",
      "6023 / 17700 :  ['10467', 'United States']\n",
      "6024 / 17700 :  ['11356', 'United States']\n",
      "6025 / 17700 :  ['11429', 'United States']\n",
      "6026 / 17700 :  ['10012', 'United States']\n",
      "6027 / 17700 :  ['11435', 'United States']\n",
      "6028 / 17700 :  ['11210', 'United States']\n",
      "6029 / 17700 :  ['10029', 'United States']\n",
      "6030 / 17700 :  ['11216', 'United States']\n",
      "6031 / 17700 :  ['10075', 'United States']\n",
      "6032 / 17700 :  ['10040', 'United States']\n",
      "6033 / 17700 :  ['10458', 'United States']\n",
      "6034 / 17700 :  ['10453', 'United States']\n",
      "6035 / 17700 :  ['11372', 'United States']\n",
      "6036 / 17700 :  ['10034', 'United States']\n",
      "6037 / 17700 :  ['11210', 'United States']\n",
      "6038 / 17700 :  ['11206', 'United States']\n",
      "6039 / 17700 :  ['11249', 'United States']\n",
      "6040 / 17700 :  ['New York', 'United States']\n",
      "6041 / 17700 :  ['11369', 'United States']\n",
      "6042 / 17700 :  ['11385', 'United States']\n",
      "6043 / 17700 :  ['11206', 'United States']\n"
     ]
    }
   ],
   "source": [
    "geolocator = geopy.Nominatim(user_agent=\"AirbnbReactWebsite\")\n",
    "\n",
    "postalInfoDf = pd.read_csv('./Data/PostalInfo.csv')\n",
    "\n",
    "\n",
    "for i,x in airbnbData.iterrows():\n",
    "    \n",
    "    if i < len(postalInfoDf.index):\n",
    "        continue\n",
    "    \n",
    "    location = geolocator.reverse((x.lat, x.long))\n",
    "    locationRaw = location.raw['display_name'].split(', ')\n",
    "    \n",
    "    postalCode =  [locationRaw[-2], locationRaw[-1]]\n",
    "    \n",
    "    print(i, \"/\" , airbnbData.shape[0] ,': ', postalCode)\n",
    "    \n",
    "    postalInfoDf.loc[i] = postalCode\n",
    "    \n",
    "    if i %100 == 0:\n",
    "        postalInfoDf.to_csv('./Data/PostalInfo.csv' ,index=False)\n",
    "\n",
    "print('Finished getting all postal Info')\n",
    "        \n",
    "airbnbData\n",
    "\n"
   ]
  }
 ],
 "metadata": {
  "kernelspec": {
   "display_name": "Python 3",
   "language": "python",
   "name": "python3"
  },
  "language_info": {
   "codemirror_mode": {
    "name": "ipython",
    "version": 3
   },
   "file_extension": ".py",
   "mimetype": "text/x-python",
   "name": "python",
   "nbconvert_exporter": "python",
   "pygments_lexer": "ipython3",
   "version": "3.8.3"
  }
 },
 "nbformat": 4,
 "nbformat_minor": 4
}
